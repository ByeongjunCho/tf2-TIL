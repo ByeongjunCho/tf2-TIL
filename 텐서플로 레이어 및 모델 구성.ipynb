{
 "cells": [
  {
   "cell_type": "markdown",
   "metadata": {},
   "source": [
    "# Layer 생성 예제"
   ]
  },
  {
   "cell_type": "code",
   "execution_count": 1,
   "metadata": {},
   "outputs": [],
   "source": [
    "import tensorflow as tf"
   ]
  },
  {
   "cell_type": "markdown",
   "metadata": {},
   "source": [
    "### Layer 생성"
   ]
  },
  {
   "cell_type": "code",
   "execution_count": 2,
   "metadata": {},
   "outputs": [],
   "source": [
    "# tf.keras.layers 패키지에서 층은 객체입니다. 층을 구성하려면 간단히 객체를 생성하십시오.\n",
    "# 대부분의 layer는 첫번째 인수로 출력 차원(크기) 또는 채널을 입력으로 합니다.\n",
    "layer = tf.keras.layers.Dense(100)  # 출력 크기 = 100\n",
    "# 입력 차원의 수는 층을 처음 실행할 때 유추할 수 있기 때문에 필수적인 입력은 아닙니다.\n",
    "# 일부 복잡한 모델에서는 수동으로 입력 차원의 수를 제공하는것이 유용할 수 있습니다.\n",
    "layer = tf.keras.layers.Dense(10, input_shape=(None, 5))"
   ]
  },
  {
   "cell_type": "code",
   "execution_count": 3,
   "metadata": {},
   "outputs": [
    {
     "data": {
      "text/plain": [
       "<tf.Tensor: id=29, shape=(10, 10), dtype=float32, numpy=\n",
       "array([[0., 0., 0., 0., 0., 0., 0., 0., 0., 0.],\n",
       "       [0., 0., 0., 0., 0., 0., 0., 0., 0., 0.],\n",
       "       [0., 0., 0., 0., 0., 0., 0., 0., 0., 0.],\n",
       "       [0., 0., 0., 0., 0., 0., 0., 0., 0., 0.],\n",
       "       [0., 0., 0., 0., 0., 0., 0., 0., 0., 0.],\n",
       "       [0., 0., 0., 0., 0., 0., 0., 0., 0., 0.],\n",
       "       [0., 0., 0., 0., 0., 0., 0., 0., 0., 0.],\n",
       "       [0., 0., 0., 0., 0., 0., 0., 0., 0., 0.],\n",
       "       [0., 0., 0., 0., 0., 0., 0., 0., 0., 0.],\n",
       "       [0., 0., 0., 0., 0., 0., 0., 0., 0., 0.]], dtype=float32)>"
      ]
     },
     "execution_count": 3,
     "metadata": {},
     "output_type": "execute_result"
    }
   ],
   "source": [
    "layer(tf.zeros([10, 5]))"
   ]
  },
  {
   "cell_type": "code",
   "execution_count": 4,
   "metadata": {},
   "outputs": [
    {
     "data": {
      "text/plain": [
       "[<tf.Variable 'dense_1/kernel:0' shape=(5, 10) dtype=float32, numpy=\n",
       " array([[-0.29377058,  0.18714625,  0.20941854, -0.5315432 ,  0.01986045,\n",
       "         -0.3535888 ,  0.5163087 , -0.54794955,  0.16733736,  0.27113128],\n",
       "        [ 0.18333668, -0.01226079,  0.10867   ,  0.09177935, -0.36730728,\n",
       "         -0.59805316,  0.2204032 ,  0.56961685, -0.46261102,  0.5572081 ],\n",
       "        [-0.4101436 , -0.49637315, -0.29271296,  0.22380698,  0.5685057 ,\n",
       "          0.44986373,  0.6281994 ,  0.03205884,  0.11034989, -0.54353684],\n",
       "        [-0.02329057, -0.32839146,  0.12996066, -0.09403586, -0.55182886,\n",
       "          0.1589604 , -0.62411314, -0.6276731 , -0.0290007 ,  0.00417507],\n",
       "        [-0.26428226,  0.381427  ,  0.61394626,  0.62524325, -0.11348981,\n",
       "          0.5643329 , -0.1338712 ,  0.10224622,  0.10236382,  0.11186969]],\n",
       "       dtype=float32)>,\n",
       " <tf.Variable 'dense_1/bias:0' shape=(10,) dtype=float32, numpy=array([0., 0., 0., 0., 0., 0., 0., 0., 0., 0.], dtype=float32)>]"
      ]
     },
     "execution_count": 4,
     "metadata": {},
     "output_type": "execute_result"
    }
   ],
   "source": [
    "# layer는 유용한 메서드를 많이 가지고 있습니다. 예를 들어, `layer.variables`를 사용하여 층안에 있는 모든 변수를 확인할 수 있으며, \n",
    "# `layer.trainable_variables`를 사용하여 훈련 가능한 변수를 확인할 수 있습니다. \n",
    "# 완전 연결(fully-connected)층은 가중치(weight)와 편향(biases)을 위한 변수를 가집니다. \n",
    "layer.variables"
   ]
  },
  {
   "cell_type": "code",
   "execution_count": 5,
   "metadata": {},
   "outputs": [
    {
     "data": {
      "text/plain": [
       "(<tf.Variable 'dense_1/kernel:0' shape=(5, 10) dtype=float32, numpy=\n",
       " array([[-0.29377058,  0.18714625,  0.20941854, -0.5315432 ,  0.01986045,\n",
       "         -0.3535888 ,  0.5163087 , -0.54794955,  0.16733736,  0.27113128],\n",
       "        [ 0.18333668, -0.01226079,  0.10867   ,  0.09177935, -0.36730728,\n",
       "         -0.59805316,  0.2204032 ,  0.56961685, -0.46261102,  0.5572081 ],\n",
       "        [-0.4101436 , -0.49637315, -0.29271296,  0.22380698,  0.5685057 ,\n",
       "          0.44986373,  0.6281994 ,  0.03205884,  0.11034989, -0.54353684],\n",
       "        [-0.02329057, -0.32839146,  0.12996066, -0.09403586, -0.55182886,\n",
       "          0.1589604 , -0.62411314, -0.6276731 , -0.0290007 ,  0.00417507],\n",
       "        [-0.26428226,  0.381427  ,  0.61394626,  0.62524325, -0.11348981,\n",
       "          0.5643329 , -0.1338712 ,  0.10224622,  0.10236382,  0.11186969]],\n",
       "       dtype=float32)>,\n",
       " <tf.Variable 'dense_1/bias:0' shape=(10,) dtype=float32, numpy=array([0., 0., 0., 0., 0., 0., 0., 0., 0., 0.], dtype=float32)>)"
      ]
     },
     "execution_count": 5,
     "metadata": {},
     "output_type": "execute_result"
    }
   ],
   "source": [
    "# 또한 변수는 객체의 속성을 통해 편리하게 접근 가능합니다. \n",
    "layer.kernel, layer.bias"
   ]
  },
  {
   "cell_type": "markdown",
   "metadata": {},
   "source": [
    "## 사용자 정의 층 구현\n",
    "사용자 정의 층을 구현하는 가장 좋은 방법은 tf.keras.Layer 클래스를 상속하고 다음과 같이 구현하는 것입니다. * __init__ 에서 층에 필요한 매개변수를 입력 받습니다. * build, 입력 텐서의 크기를 얻고 남은 초기화를 진행할 수 있습니다 * call, 정방향 연산(forward computation)을 진행 할 수 있습니다.\n",
    "\n",
    "변수를 생성하기 위해 build가 호출되길 기다릴 필요가 없다는 것에 주목하세요. 또한 변수를 __init__에 생성할 수도 있습니다. 그러나 build에 변수를 생성하는 유리한 점은 층이 작동할 입력의 크기를 기준으로 나중에 변수를 만들 수 있다는 것입니다. 반면에, __init__에 변수를 생성하는 것은 변수 생성에 필요한 크기가 명시적으로 지정되어야 함을 의미합니다."
   ]
  },
  {
   "cell_type": "code",
   "execution_count": 6,
   "metadata": {},
   "outputs": [
    {
     "name": "stdout",
     "output_type": "stream",
     "text": [
      "WARNING:tensorflow:From <ipython-input-6-bdab44246301>:8: Layer.add_variable (from tensorflow.python.keras.engine.base_layer) is deprecated and will be removed in a future version.\n",
      "Instructions for updating:\n",
      "Please use `layer.add_weight` method instead.\n",
      "tf.Tensor(\n",
      "[[0. 0. 0. 0. 0. 0. 0. 0. 0. 0.]\n",
      " [0. 0. 0. 0. 0. 0. 0. 0. 0. 0.]\n",
      " [0. 0. 0. 0. 0. 0. 0. 0. 0. 0.]\n",
      " [0. 0. 0. 0. 0. 0. 0. 0. 0. 0.]\n",
      " [0. 0. 0. 0. 0. 0. 0. 0. 0. 0.]\n",
      " [0. 0. 0. 0. 0. 0. 0. 0. 0. 0.]\n",
      " [0. 0. 0. 0. 0. 0. 0. 0. 0. 0.]\n",
      " [0. 0. 0. 0. 0. 0. 0. 0. 0. 0.]\n",
      " [0. 0. 0. 0. 0. 0. 0. 0. 0. 0.]\n",
      " [0. 0. 0. 0. 0. 0. 0. 0. 0. 0.]], shape=(10, 10), dtype=float32)\n",
      "[<tf.Variable 'my_dense_layer/kernel:0' shape=(5, 10) dtype=float32, numpy=\n",
      "array([[-0.6046731 , -0.11230052, -0.5124488 ,  0.23717654,  0.4912246 ,\n",
      "        -0.45967275,  0.13227224,  0.34627116,  0.4990453 ,  0.03487468],\n",
      "       [ 0.3460474 ,  0.06722695, -0.56769127,  0.19025552,  0.58775586,\n",
      "        -0.29044613, -0.1723125 , -0.22795382,  0.09965336, -0.41274822],\n",
      "       [-0.07140785,  0.17589039, -0.62706465, -0.596821  , -0.02200991,\n",
      "         0.5464992 ,  0.26446503,  0.17835325,  0.43240672,  0.55737823],\n",
      "       [-0.20384929,  0.4743095 ,  0.19564712,  0.63109   , -0.36242852,\n",
      "         0.57570094, -0.4247548 ,  0.59573716, -0.2929135 , -0.08261997],\n",
      "       [ 0.04552686, -0.6175018 ,  0.22835958,  0.5231053 , -0.19195533,\n",
      "        -0.40195078,  0.0763616 , -0.1860263 ,  0.18123531,  0.44020194]],\n",
      "      dtype=float32)>]\n"
     ]
    }
   ],
   "source": [
    "class MyDenseLayer(tf.keras.layers.Layer):\n",
    "    def __init__(self, num_outputs):\n",
    "        super(MyDenseLayer, self).__init__()\n",
    "        self.num_outputs = num_outputs\n",
    "        \n",
    "    def build(self, input_shape):\n",
    "        self.kernel = self.add_variable(\"kernel\",\n",
    "                                      shape=[int(input_shape[-1]), self.num_outputs])\n",
    "        super(MyDenseLayer, self).build(input_shape)  # 끝에서 꼭 이 함수를 호출하십시오\n",
    "    \n",
    "    def call(self, input):\n",
    "        return tf.matmul(input, self.kernel)\n",
    "    def compute_output_shape(self, input_shape):\n",
    "        return (input_shape[0], self.num_outputs)\n",
    "    \n",
    "layer = MyDenseLayer(10)\n",
    "print(layer(tf.zeros([10, 5])))\n",
    "print(layer.trainable_variables)"
   ]
  },
  {
   "cell_type": "markdown",
   "metadata": {},
   "source": [
    "# 케라스 레이어 만들기\n",
    "* `build(input_shape)`: 이 메서드에서 가중치를 정의합니다. 끝에서는 반드시 `super([Layer], self).build()`를 호출해 `self.build = True`로 지정해야 합니다.\n",
    "* `call(x)`: 레이어 논리의 핵심이 되는 메서드입니다. 마스킹을 지원하는 레이어를 만들 것이 아니라면 `call`의 첫 번째 인수에 전달되는 인풋 텐서만 주의하면 됩니다.\n",
    "* `compute_output_shape(input_shape)`: 레이어가 인풋의 형태를 수정하는 경우, 형태 변형 논리를 지정해야 합니다. 이 메서드는 케라스가 자동 형태 추론을 할 수 있도록 합니다."
   ]
  },
  {
   "cell_type": "code",
   "execution_count": 7,
   "metadata": {},
   "outputs": [],
   "source": [
    "class MyLayer(tf.keras.layers.Layer):\n",
    "\n",
    "    def __init__(self, num_outputs, **kwargs):\n",
    "        super(MyLayer, self).__init__(**kwargs)\n",
    "        self.num_outputs = num_outputs\n",
    "\n",
    "    def build(self, input_shape):\n",
    "        # 이 레이어에 대해 학습가능한 가중치 변수를 만듭니다.\n",
    "        self.kernel = self.add_weight(name='kernel', \n",
    "                                      shape=(input_shape[1], self.num_outputs),\n",
    "                                      initializer='uniform',\n",
    "                                      trainable=True)\n",
    "        super(MyLayer, self).build(input_shape)  # 끝에서 꼭 이 함수를 호출하십시오\n",
    "\n",
    "    def call(self, input):\n",
    "        return tf.matmul(input, self.kernel)\n",
    "\n",
    "    def compute_output_shape(self, input_shape):\n",
    "        return (input_shape[0], self.num_outputs)"
   ]
  },
  {
   "cell_type": "code",
   "execution_count": 8,
   "metadata": {},
   "outputs": [
    {
     "name": "stdout",
     "output_type": "stream",
     "text": [
      "[<tf.Variable 'my_layer/kernel:0' shape=(5, 10) dtype=float32, numpy=\n",
      "array([[ 0.00868332,  0.0081328 , -0.01438576,  0.03701614,  0.03584084,\n",
      "        -0.00444341,  0.00989047,  0.04498491, -0.0034055 , -0.02044146],\n",
      "       [ 0.04022142, -0.01452601,  0.01598275, -0.01752446,  0.00742982,\n",
      "        -0.04509187, -0.01212083,  0.03055806, -0.02117996,  0.01538891],\n",
      "       [ 0.0456881 , -0.04582701,  0.04759954,  0.02996111, -0.02810305,\n",
      "         0.02257145,  0.00044214,  0.02674652, -0.04648206, -0.01213961],\n",
      "       [ 0.01954019,  0.02906803, -0.00537469,  0.04095489, -0.0088224 ,\n",
      "        -0.02586374,  0.01657334,  0.03867413, -0.0401732 , -0.02435857],\n",
      "       [ 0.04752168,  0.00808867,  0.03960322,  0.04442609, -0.00789846,\n",
      "        -0.03041889, -0.00532725,  0.00345652,  0.00212733, -0.02985084]],\n",
      "      dtype=float32)>]\n"
     ]
    }
   ],
   "source": [
    "mylayer1 = MyLayer(10)\n",
    "mylayer1(tf.zeros([5, 5]))\n",
    "print(mylayer1.trainable_variables)"
   ]
  },
  {
   "cell_type": "markdown",
   "metadata": {},
   "source": [
    "\n",
    "\n",
    "다중 인풋 텐서와 다웅 아웃풋 텐서를 가진 케라스 레이어를 정의하는 것도 가능합니다. 이를 위해서는 `build(input_shape)`, `call(x)`, `compute_output_shape(input_shape)`의 인풋과 아웃풋이 리스트라고 가정해야 합니다."
   ]
  },
  {
   "cell_type": "code",
   "execution_count": 9,
   "metadata": {},
   "outputs": [],
   "source": [
    "class MyLayer(tf.keras.layers.Layer):\n",
    "    \n",
    "    def __init__(self, output_dim, **kwargs):\n",
    "        self.output_dim = output_dim\n",
    "        super(MyLayer, self).__init__(**kwargs)\n",
    "        \n",
    "    def build(self, input_shape):\n",
    "        assert isinstance(input_shape, list)\n",
    "        # 이 레이어에 대해 학습가능한 가중치 변수를 만듭니다.\n",
    "        self.kernel = self.add_weight(name='kernel',\n",
    "                                     shape=(input_shape[0][1], self.output_dim),\n",
    "                                     initializer='uniform',\n",
    "                                     trainable=True)\n",
    "        super(MyLayer, self).build(input_shape) # build 호출 필수\n",
    "    \n",
    "    def call(self, x):\n",
    "        assert isinstance(x, list)\n",
    "        a, b = x\n",
    "        return [tf.matmul(a, self.kernel) + b, tf.keras.mean(b, axis=-1)]"
   ]
  },
  {
   "cell_type": "markdown",
   "metadata": {},
   "source": [
    "## 모델 구성\n",
    "머신러닝 모델에서 대부분의 재미있는 많은 것들은 기존의 층을 조합하여 구현됩니다. 예를 들어, 레즈넷(resnet)의 각 잔여 블록(residual block)은 합성곱(convolution), 배치 정규화(batch normalization), 쇼트컷(shortcut) 등으로 구성되어 있습니다.\n",
    "\n",
    "다른 층을 포함한 모델을 만들기 위해 사용하는 메인 클래스는 tf.keras.Model입니다. 다음은 tf.keras.Model을 상속(inheritance)하여 구현한 코드입니다."
   ]
  },
  {
   "cell_type": "code",
   "execution_count": 10,
   "metadata": {},
   "outputs": [
    {
     "name": "stdout",
     "output_type": "stream",
     "text": [
      "tf.Tensor(\n",
      "[[[[0. 0. 0.]\n",
      "   [0. 0. 0.]\n",
      "   [0. 0. 0.]]\n",
      "\n",
      "  [[0. 0. 0.]\n",
      "   [0. 0. 0.]\n",
      "   [0. 0. 0.]]]], shape=(1, 2, 3, 3), dtype=float32)\n",
      "['resnet_identity_block/conv2d/kernel:0', 'resnet_identity_block/conv2d/bias:0', 'resnet_identity_block/batch_normalization/gamma:0', 'resnet_identity_block/batch_normalization/beta:0', 'resnet_identity_block/conv2d_1/kernel:0', 'resnet_identity_block/conv2d_1/bias:0', 'resnet_identity_block/batch_normalization_1/gamma:0', 'resnet_identity_block/batch_normalization_1/beta:0', 'resnet_identity_block/conv2d_2/kernel:0', 'resnet_identity_block/conv2d_2/bias:0', 'resnet_identity_block/batch_normalization_2/gamma:0', 'resnet_identity_block/batch_normalization_2/beta:0']\n"
     ]
    }
   ],
   "source": [
    "class ResnetIdentityBlock(tf.keras.Model):\n",
    "    def __init__(self, kernel_size, filters):\n",
    "        super(ResnetIdentityBlock, self).__init__(name='')\n",
    "        filters1, filters2, filters3 = filters\n",
    "        \n",
    "        self.conv2a = tf.keras.layers.Conv2D(filters1, (1, 1))\n",
    "        self.bn2a = tf.keras.layers.BatchNormalization()\n",
    "        \n",
    "        self.conv2b = tf.keras.layers.Conv2D(filters2, kernel_size, padding='same')\n",
    "        self.bn2b = tf.keras.layers.BatchNormalization()\n",
    "        \n",
    "        self.conv2c = tf.keras.layers.Conv2D(filters3, (1, 1))\n",
    "        self.bn2c = tf.keras.layers.BatchNormalization()\n",
    "    \n",
    "    def call(self, input_tensor, training=False):\n",
    "        x = self.conv2a(input_tensor)\n",
    "        x = self.bn2a(x, training=training)\n",
    "        x = tf.nn.relu(x)\n",
    "        \n",
    "        x = self.conv2b(x)\n",
    "        x = self.bn2b(x, training=training)\n",
    "        x = tf.nn.relu(x)\n",
    "        \n",
    "        x = self.conv2c(x)\n",
    "        x = self.bn2c(x, training=training)\n",
    "        \n",
    "        x += input_tensor\n",
    "        return tf.nn.relu(x)\n",
    "    \n",
    "block = ResnetIdentityBlock(1, [1, 2, 3])\n",
    "print(block(tf.zeros([1,2,3,3])))\n",
    "print([x.name for x in block.trainable_variables])"
   ]
  },
  {
   "cell_type": "code",
   "execution_count": 16,
   "metadata": {},
   "outputs": [
    {
     "data": {
      "text/plain": [
       "<tf.Tensor: id=1674, shape=(1, 2, 3, 3), dtype=float32, numpy=\n",
       "array([[[[0., 0., 0.],\n",
       "         [0., 0., 0.],\n",
       "         [0., 0., 0.]],\n",
       "\n",
       "        [[0., 0., 0.],\n",
       "         [0., 0., 0.],\n",
       "         [0., 0., 0.]]]], dtype=float32)>"
      ]
     },
     "execution_count": 16,
     "metadata": {},
     "output_type": "execute_result"
    }
   ],
   "source": [
    "my_seq = tf.keras.Sequential([tf.keras.layers.Conv2D(1, (1, 1), input_shape=(None, None, 3)),\n",
    "                             tf.keras.layers.BatchNormalization(),\n",
    "                             tf.keras.layers.Conv2D(2, 1, padding='same'),\n",
    "                             tf.keras.layers.BatchNormalization(),\n",
    "                             tf.keras.layers.Conv2D(3, (1, 1)),\n",
    "                             tf.keras.layers.BatchNormalization()])\n",
    "\n",
    "my_seq(tf.zeros([1,2,3,3]))"
   ]
  },
  {
   "cell_type": "code",
   "execution_count": null,
   "metadata": {},
   "outputs": [],
   "source": []
  }
 ],
 "metadata": {
  "kernelspec": {
   "display_name": "Python 3",
   "language": "python",
   "name": "python3"
  },
  "language_info": {
   "codemirror_mode": {
    "name": "ipython",
    "version": 3
   },
   "file_extension": ".py",
   "mimetype": "text/x-python",
   "name": "python",
   "nbconvert_exporter": "python",
   "pygments_lexer": "ipython3",
   "version": "3.7.4"
  }
 },
 "nbformat": 4,
 "nbformat_minor": 2
}
